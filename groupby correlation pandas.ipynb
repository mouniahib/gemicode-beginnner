{
 "cells": [
  {
   "cell_type": "code",
   "execution_count": 6,
   "id": "22ad568d",
   "metadata": {},
   "outputs": [
    {
     "name": "stdout",
     "output_type": "stream",
     "text": [
      "Home Address\n",
      "City A    0.666667\n",
      "City B    0.500000\n",
      "City C    0.000000\n",
      "Name: Promoted, dtype: float64\n"
     ]
    }
   ],
   "source": [
    "import pandas as pd\n",
    "\n",
    "# Sample data\n",
    "data = {\n",
    "    'Home Address': ['City A', 'City B', 'City A', 'City B', 'City A', 'City C'],\n",
    "    'Promoted': [1, 0, 1, 1, 0, 0]\n",
    "}\n",
    "\n",
    "# Create a DataFrame from the sample data\n",
    "df = pd.DataFrame(data)\n",
    "\n",
    "# Group by 'Home Address' and calculate the mean of 'Promoted'\n",
    "correlation = df.groupby('Home Address', as_index=True)['Promoted'].mean()\n",
    "\n",
    "print(correlation)\n"
   ]
  },
  {
   "cell_type": "code",
   "execution_count": 7,
   "id": "5d103d00",
   "metadata": {},
   "outputs": [
    {
     "name": "stdout",
     "output_type": "stream",
     "text": [
      "Home Address  Promoted\n",
      "City A        0           1\n",
      "              1           2\n",
      "City B        0           1\n",
      "              1           2\n",
      "Name: Promoted, dtype: int64\n"
     ]
    }
   ],
   "source": [
    "import pandas as pd\n",
    "\n",
    "# Sample data\n",
    "data = {\n",
    "    'Home Address': ['City A', 'City B', 'City A', 'City B', 'City A', 'City B'],\n",
    "    'Promoted': [1, 0, 1, 1, 0, 1]\n",
    "}\n",
    "\n",
    "# Create a DataFrame from the sample data\n",
    "df = pd.DataFrame(data)\n",
    "\n",
    "# Group by both 'Home Address' and 'Promoted' and calculate the mean\n",
    "result = df.groupby(['Home Address', 'Promoted'])['Promoted'].count()\n",
    "\n",
    "print(result)\n"
   ]
  },
  {
   "cell_type": "code",
   "execution_count": 2,
   "id": "e2b54146",
   "metadata": {},
   "outputs": [
    {
     "name": "stdout",
     "output_type": "stream",
     "text": [
      "Total Sales by City:\n",
      "City\n",
      "Chicago         9500\n",
      "Los Angeles    14700\n",
      "New York       18000\n",
      "Name: Sales, dtype: int64\n",
      "\n",
      "Average Sales by Category:\n",
      "Category\n",
      "A    9750.0\n",
      "B    7350.0\n",
      "C    8000.0\n",
      "Name: Sales, dtype: float64\n",
      "\n",
      "Total and Average Sales by City and Category:\n",
      "                      Sales         \n",
      "                        sum     mean\n",
      "City        Category                \n",
      "Chicago     A          9500   9500.0\n",
      "Los Angeles B         14700   7350.0\n",
      "New York    A         10000  10000.0\n",
      "            C          8000   8000.0\n"
     ]
    }
   ],
   "source": [
    "import pandas as pd\n",
    "\n",
    "# Sample data\n",
    "data = {\n",
    "    'City': ['New York', 'Los Angeles', 'Chicago', 'New York', 'Los Angeles'],\n",
    "    'Category': ['A', 'B', 'A', 'C', 'B'],\n",
    "    'Sales': [10000, 7500, 9500, 8000, 7200]\n",
    "}\n",
    "\n",
    "# Create a DataFrame from the sample data\n",
    "df = pd.DataFrame(data)\n",
    "\n",
    "# Group by 'City' and calculate the total sales in each city\n",
    "city_sales = df.groupby('City')['Sales'].sum()\n",
    "\n",
    "# Group by 'Category' and calculate the average sales in each category\n",
    "category_sales = df.groupby('Category')['Sales'].mean()\n",
    "\n",
    "# Group by 'City' and 'Category' and calculate both total sales and average sales\n",
    "city_category_sales = df.groupby(['City', 'Category']).agg({'Sales': ['sum', 'mean']})\n",
    "\n",
    "print(\"Total Sales by City:\")\n",
    "print(city_sales)\n",
    "print(\"\\nAverage Sales by Category:\")\n",
    "print(category_sales)\n",
    "print(\"\\nTotal and Average Sales by City and Category:\")\n",
    "print(city_category_sales)\n"
   ]
  },
  {
   "cell_type": "code",
   "execution_count": null,
   "id": "b4b01e1e",
   "metadata": {},
   "outputs": [],
   "source": []
  }
 ],
 "metadata": {
  "kernelspec": {
   "display_name": "Python 3 (ipykernel)",
   "language": "python",
   "name": "python3"
  },
  "language_info": {
   "codemirror_mode": {
    "name": "ipython",
    "version": 3
   },
   "file_extension": ".py",
   "mimetype": "text/x-python",
   "name": "python",
   "nbconvert_exporter": "python",
   "pygments_lexer": "ipython3",
   "version": "3.11.5"
  }
 },
 "nbformat": 4,
 "nbformat_minor": 5
}
