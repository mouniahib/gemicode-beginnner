{
 "cells": [
  {
   "cell_type": "code",
   "execution_count": null,
   "id": "d4a79380",
   "metadata": {},
   "outputs": [],
   "source": [
    "#les rendements boursiers des indices S&P 500 et FTSE 100.\n",
    "\n",
    "import pandas as pd\n",
    "import plotly.express as px\n",
    "#Lire des données dans DataFrame\n",
    "\n",
    "df = pd.read_csv('chart_data (1).csv')\n",
    "#Créer un graphique linéaire à l’aide de plotly.express\n",
    "\n",
    "fig = px.line(df, x='Date', y=['GSPC500', 'FTSE100'], title='Stock Market Trends')\n",
    "fig.show()"
   ]
  }
 ],
 "metadata": {
  "kernelspec": {
   "display_name": "Python 3 (ipykernel)",
   "language": "python",
   "name": "python3"
  },
  "language_info": {
   "codemirror_mode": {
    "name": "ipython",
    "version": 3
   },
   "file_extension": ".py",
   "mimetype": "text/x-python",
   "name": "python",
   "nbconvert_exporter": "python",
   "pygments_lexer": "ipython3",
   "version": "3.10.9"
  }
 },
 "nbformat": 4,
 "nbformat_minor": 5
}
