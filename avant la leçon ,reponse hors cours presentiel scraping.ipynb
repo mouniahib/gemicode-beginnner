{
 "cells": [
  {
   "cell_type": "code",
   "execution_count": 7,
   "id": "973af141",
   "metadata": {},
   "outputs": [
    {
     "ename": "SyntaxError",
     "evalue": "invalid syntax (1883693732.py, line 1)",
     "output_type": "error",
     "traceback": [
      "\u001b[1;36m  Cell \u001b[1;32mIn[7], line 1\u001b[1;36m\u001b[0m\n\u001b[1;33m    pip install requests\u001b[0m\n\u001b[1;37m        ^\u001b[0m\n\u001b[1;31mSyntaxError\u001b[0m\u001b[1;31m:\u001b[0m invalid syntax\n"
     ]
    }
   ],
   "source": [
    "\n",
    "import requests\n",
    "from bs4 import BeautifulSoup\n",
    "\n",
    "def get_html_content(url):\n",
    "    response = requests.get(url)\n",
    "    if response.status_code == 200:\n",
    "        return response.text\n",
    "    else:\n",
    "        raise Exception(\"Failed to retrieve the content from the URL.\")\n",
    "        \n",
    "def parse_html_content(html_content):\n",
    "    return BeautifulSoup(html_content, 'html.parser')\n"
   ]
  },
  {
   "cell_type": "code",
   "execution_count": 4,
   "id": "b87161a9",
   "metadata": {},
   "outputs": [],
   "source": [
    "def extract_article_title(soup):\n",
    "    return soup.find('h1', class_='firstHeading').text.strip()\n"
   ]
  },
  {
   "cell_type": "code",
   "execution_count": null,
   "id": "54bb4b68",
   "metadata": {},
   "outputs": [],
   "source": [
    "def extract_article_text(soup):\n",
    "    article_text = {}\n",
    "    current_heading = None\n",
    "\n",
    "    for element in soup.find_all(['h2', 'p']):\n",
    "        if element.name == 'h2':\n",
    "            current_heading = element.text.strip()\n",
    "            article_text[current_heading] = []\n",
    "        elif element.name == 'p' and current_heading:\n",
    "            article_text[current_heading].append(element.text.strip())\n",
    "\n",
    "    return article_text\n"
   ]
  },
  {
   "cell_type": "code",
   "execution_count": 5,
   "id": "7858c01a",
   "metadata": {},
   "outputs": [],
   "source": [
    "def collect_redirect_links(soup):\n",
    "    redirect_links = []\n",
    "    for element in soup.find_all('a', href=True):\n",
    "        if '/wiki/' in element['href']:\n",
    "            redirect_links.append(element['href'])\n",
    "    return redirect_links\n"
   ]
  },
  {
   "cell_type": "code",
   "execution_count": null,
   "id": "85d84744",
   "metadata": {},
   "outputs": [],
   "source": [
    "def process_wikipedia_page(url):\n",
    "    try:\n",
    "        html_content = get_html_content(url)\n",
    "        soup = parse_html_content(html_content)\n",
    "        article_title = extract_article_title(soup)\n",
    "        article_text = extract_article_text(soup)\n",
    "        redirect_links = collect_redirect_links(soup)\n",
    "\n",
    "        return {\n",
    "            \"title\": article_title,\n",
    "            \"text\": article_text,\n",
    "            \"redirect_links\": redirect_links\n",
    "        }\n",
    "    except Exception as e:\n",
    "        return {\"error\": str(e)}\n"
   ]
  },
  {
   "cell_type": "code",
   "execution_count": null,
   "id": "d5a5be2e",
   "metadata": {},
   "outputs": [],
   "source": [
    "# Let's test the function on a Wikipedia page of your choice.\n",
    "wikipedia_link = \"https://en.wikipedia.org/wiki/Python_(programming_language)\"\n",
    "result = process_wikipedia_page(wikipedia_link)\n",
    "\n",
    "# Print the title and the first few paragraphs of the article\n",
    "print(\"Article Title:\", result[\"title\"])\n",
    "print(\"\\nFirst Few Paragraphs:\")\n",
    "for heading, paragraphs in result[\"text\"].items():\n",
    "    print(f\"\\n{heading}\\n\")\n",
    "    for paragraph in paragraphs[:3]:  # Print the first 3 paragraphs for each heading\n",
    "        print(paragraph)\n",
    "\n",
    "# Print the redirect links\n",
    "print(\"\\nRedirect Links:\")\n",
    "for link in result[\"redirect_links\"]:\n",
    "    print(link)\n"
   ]
  }
 ],
 "metadata": {
  "kernelspec": {
   "display_name": "Python 3 (ipykernel)",
   "language": "python",
   "name": "python3"
  },
  "language_info": {
   "codemirror_mode": {
    "name": "ipython",
    "version": 3
   },
   "file_extension": ".py",
   "mimetype": "text/x-python",
   "name": "python",
   "nbconvert_exporter": "python",
   "pygments_lexer": "ipython3",
   "version": "3.10.9"
  }
 },
 "nbformat": 4,
 "nbformat_minor": 5
}
