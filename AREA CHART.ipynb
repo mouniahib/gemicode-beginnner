{
 "cells": [
  {
   "cell_type": "code",
   "execution_count": null,
   "id": "a7b4ba0e",
   "metadata": {},
   "outputs": [],
   "source": [
    "import plotly.express as px\n",
    "import pandas as pd\n",
    "#Lire les données CSV\n",
    "\n",
    "df = pd.read_csv(\"/content/stacked_area_chart_data.csv\")\n",
    "#Empiler les données\n",
    "\n",
    "df = df.set_index(\"Year\").stack().reset_index().rename(columns={\"level_1\":\"Fuel Type\", 0:\"Value\"})\n",
    "#Créer un graphique en aires non empilé\n",
    "\n",
    "fig = px.area(df, x='Year', y='Value', color='Fuel Type')\n",
    "#afficher le graphique\n",
    "\n",
    "fig.show()"
   ]
  }
 ],
 "metadata": {
  "kernelspec": {
   "display_name": "Python 3 (ipykernel)",
   "language": "python",
   "name": "python3"
  },
  "language_info": {
   "codemirror_mode": {
    "name": "ipython",
    "version": 3
   },
   "file_extension": ".py",
   "mimetype": "text/x-python",
   "name": "python",
   "nbconvert_exporter": "python",
   "pygments_lexer": "ipython3",
   "version": "3.10.9"
  }
 },
 "nbformat": 4,
 "nbformat_minor": 5
}
