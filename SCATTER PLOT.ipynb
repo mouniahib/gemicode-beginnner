{
 "cells": [
  {
   "cell_type": "code",
   "execution_count": null,
   "id": "353f43e3",
   "metadata": {},
   "outputs": [],
   "source": [
    "import plotly.graph_objs as go\n",
    "import plotly.offline as pyo\n",
    "#Create a trace using the go.Scatter() function. This will create a scatter plot. Here, x and y arguments are the data to be plotted on the X and Y axis, respectively. The mode argument specifies the type of plot, in this case, markers. The marker argument specifies the color variable, which is based on the Building Type column of the DataFrame.\n",
    "\n",
    "trace = go.Scatter(x=df['Area (ft.)'], y=df['Price'], mode='markers', marker=dict(color=df['Building Type']))\n",
    "#Create a data list. Here, the trace object created in the previous step is added to a list called data.\n",
    "\n",
    "data = [trace]\n",
    "#Create a layout object using the go.Layout() function. This will create a layout for the chart, including the title, X and Y axis labels.\n",
    "\n",
    "layout = go.Layout(title='Year of Sale vs. Price',\n",
    "                   xaxis=dict(title='Year of sale'),\n",
    "                   yaxis=dict(title='Price'))\n",
    "#Create a figure using the go.Figure() function. This combines the data and layout objects to create a complete figure.\n",
    "\n",
    "fig = go.Figure(data=data, layout=layout)\n",
    "#Show the plot using pyo.plot() function. This function takes the fig object as an argument and displays the plot in the default web browser.\n",
    "\n",
    "pyo.plot(fig)"
   ]
  }
 ],
 "metadata": {
  "kernelspec": {
   "display_name": "Python 3 (ipykernel)",
   "language": "python",
   "name": "python3"
  },
  "language_info": {
   "codemirror_mode": {
    "name": "ipython",
    "version": 3
   },
   "file_extension": ".py",
   "mimetype": "text/x-python",
   "name": "python",
   "nbconvert_exporter": "python",
   "pygments_lexer": "ipython3",
   "version": "3.10.9"
  }
 },
 "nbformat": 4,
 "nbformat_minor": 5
}
