{
 "cells": [
  {
   "cell_type": "code",
   "execution_count": 5,
   "id": "8a935aae",
   "metadata": {},
   "outputs": [
    {
     "name": "stdout",
     "output_type": "stream",
     "text": [
      "    Standardized_Age  Standardized_Salary\n",
      "0          -1.603567            -1.220115\n",
      "1          -1.336306            -0.066552\n",
      "2          -1.069045            -1.508506\n",
      "3          -0.801784            -0.643333\n",
      "4          -0.534522            -1.220115\n",
      "5          -0.267261             0.510230\n",
      "6           0.000000            -0.354943\n",
      "7           0.267261             0.221839\n",
      "8           0.534522            -0.643333\n",
      "9           0.801784             0.798621\n",
      "10          1.069045             1.087012\n",
      "11          1.336306             1.663793\n",
      "12          1.603567             1.375403\n"
     ]
    }
   ],
   "source": [
    "from sklearn.preprocessing import StandardScaler\n",
    "import pandas as pd\n",
    "\n",
    "# Sample data\n",
    "data = {\n",
    "    'Age': [25, 30, 35, 40, 45, 50, 55, 60, 65, 70, 75, 80, 85],\n",
    "    'Salary': [60000, 80000, 55000, 70000, 60000, 90000, 75000, 85000, 70000, 95000, 100000, 110000, 105000]\n",
    "}\n",
    "\n",
    "# Create a DataFrame from the sample data\n",
    "df = pd.DataFrame(data)\n",
    "\n",
    "# Initialize the StandardScaler\n",
    "scaler = StandardScaler()\n",
    "\n",
    "# Fit and transform the 'Age' and 'Salary' columns\n",
    "scaled_data = scaler.fit_transform(df[['Age', 'Salary']])\n",
    "\n",
    "# Create a new DataFrame with the standardized data\n",
    "standardized_df = pd.DataFrame(scaled_data, columns=['Standardized_Age', 'Standardized_Salary'])\n",
    "\n",
    "print(standardized_df)\n"
   ]
  },
  {
   "cell_type": "code",
   "execution_count": null,
   "id": "b5e3d2a4",
   "metadata": {},
   "outputs": [],
   "source": []
  },
  {
   "cell_type": "code",
   "execution_count": null,
   "id": "7c142133",
   "metadata": {},
   "outputs": [],
   "source": []
  }
 ],
 "metadata": {
  "kernelspec": {
   "display_name": "Python 3 (ipykernel)",
   "language": "python",
   "name": "python3"
  },
  "language_info": {
   "codemirror_mode": {
    "name": "ipython",
    "version": 3
   },
   "file_extension": ".py",
   "mimetype": "text/x-python",
   "name": "python",
   "nbconvert_exporter": "python",
   "pygments_lexer": "ipython3",
   "version": "3.11.5"
  }
 },
 "nbformat": 4,
 "nbformat_minor": 5
}
