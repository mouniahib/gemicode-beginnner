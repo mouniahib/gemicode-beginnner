{
 "cells": [
  {
   "cell_type": "code",
   "execution_count": 14,
   "id": "a03d0fba",
   "metadata": {},
   "outputs": [
    {
     "name": "stdout",
     "output_type": "stream",
     "text": [
      "The product of all items in the list is: 36\n"
     ]
    }
   ],
   "source": [
    "def multiply_list_items(lst):\n",
    "    result = 1\n",
    "    for item in lst:\n",
    "        result *= item\n",
    "    return result\n",
    "\n",
    "sample_list = [2, 3, 6]\n",
    "product = multiply_list_items(sample_list)\n",
    "print(\"The product of all items in the list is:\", product)\n"
   ]
  },
  {
   "cell_type": "code",
   "execution_count": 33,
   "id": "e8f2907d",
   "metadata": {},
   "outputs": [
    {
     "name": "stdout",
     "output_type": "stream",
     "text": [
      "Sorted list: [(2, 1), (1, 2), (2, 3), (4, 4), (2, 5)]\n"
     ]
    }
   ],
   "source": [
    "def sort_tuples_by_last_element(lst):\n",
    "    sorted_list = sorted(lst, key=lambda x: x[-1])\n",
    "    return sorted_list\n",
    "\n",
    "sample_list = [(2, 5), (1, 2), (4, 4), (2, 3), (2, 1)]\n",
    "sorted_list = sort_tuples_by_last_element(sample_list)\n",
    "print(\"Sorted list:\", sorted_list)\n"
   ]
  },
  {
   "cell_type": "code",
   "execution_count": 2,
   "id": "08c89714",
   "metadata": {},
   "outputs": [
    {
     "name": "stdout",
     "output_type": "stream",
     "text": [
      "Counter({'a': 400, 'b': 400, 'd': 400, 'c': 300})\n"
     ]
    }
   ],
   "source": [
    "from collections import Counter\n",
    "d1 = {'a': 100, 'b': 200, 'c':300}\n",
    "d2 = {'a': 300, 'b': 200, 'd':400}\n",
    "d = Counter(d1) + Counter(d2)\n",
    "print(d)\n"
   ]
  },
  {
   "cell_type": "code",
   "execution_count": 3,
   "id": "12efb81e",
   "metadata": {},
   "outputs": [
    {
     "name": "stdout",
     "output_type": "stream",
     "text": [
      "Enter a number: 8\n",
      "Generated dictionary: {1: 1, 2: 4, 3: 9, 4: 16, 5: 25, 6: 36, 7: 49, 8: 64}\n"
     ]
    }
   ],
   "source": [
    "def generate_square_dict(n):\n",
    "    square_dict = {}\n",
    "    for i in range(1, n+1):\n",
    "        square_dict[i] = i*i\n",
    "    return square_dict\n",
    "\n",
    "n = int(input(\"Enter a number: \"))\n",
    "square_dict = generate_square_dict(n)\n",
    "print(\"Generated dictionary:\", square_dict)\n"
   ]
  },
  {
   "cell_type": "code",
   "execution_count": 4,
   "id": "25fc58bd",
   "metadata": {},
   "outputs": [
    {
     "name": "stdout",
     "output_type": "stream",
     "text": [
      "Sorted list: [('item3', '24.5'), ('item2', '15.10'), ('item1', '12.20')]\n"
     ]
    }
   ],
   "source": [
    "def sort_tuple_by_float_element(lst):\n",
    "    sorted_list = sorted(lst, key=lambda x: float(x[1]), reverse=True)\n",
    "    return sorted_list\n",
    "\n",
    "tuple_list = [('item1', '12.20'), ('item2', '15.10'), ('item3', '24.5')]\n",
    "sorted_list = sort_tuple_by_float_element(tuple_list)\n",
    "print(\"Sorted list:\", sorted_list)\n"
   ]
  },
  {
   "cell_type": "code",
   "execution_count": 5,
   "id": "27439483",
   "metadata": {},
   "outputs": [
    {
     "name": "stdout",
     "output_type": "stream",
     "text": [
      "Set: {0, 1, 2, 3, 4}\n",
      "Iterating over the set:\n",
      "0\n",
      "1\n",
      "2\n",
      "3\n",
      "4\n",
      "Set after adding members: {0, 1, 2, 3, 4, 5, 6}\n",
      "Set after removing items: {0, 1, 3, 5, 6}\n"
     ]
    }
   ],
   "source": [
    "# Create a set\n",
    "my_set = {0, 1, 2, 3, 4}\n",
    "print(\"Set:\", my_set)\n",
    "\n",
    "# Iterate over a set\n",
    "print(\"Iterating over the set:\")\n",
    "for item in my_set:\n",
    "    print(item)\n",
    "\n",
    "# Add members to a set\n",
    "my_set.add(5)\n",
    "my_set.add(6)\n",
    "print(\"Set after adding members:\", my_set)\n",
    "\n",
    "# Remove items from a set\n",
    "my_set.remove(2)\n",
    "my_set.discard(4)\n",
    "print(\"Set after removing items:\", my_set)\n"
   ]
  },
  {
   "cell_type": "code",
   "execution_count": 12,
   "id": "91a08249",
   "metadata": {},
   "outputs": [
    {
     "name": "stdout",
     "output_type": "stream",
     "text": [
      "1011\n"
     ]
    }
   ],
   "source": [
    "def decimal_to_binary(number):\n",
    "    binary = \"\"\n",
    "    while number > 0:\n",
    "        binary = str(number % 2) + binary\n",
    "        number //= 2\n",
    "    return binary\n",
    "\n",
    "decimal_number = 11\n",
    "binary_number = decimal_to_binary(decimal_number)\n",
    "print(binary_number)\n"
   ]
  },
  {
   "cell_type": "code",
   "execution_count": null,
   "id": "29ccf850",
   "metadata": {},
   "outputs": [],
   "source": []
  }
 ],
 "metadata": {
  "kernelspec": {
   "display_name": "Python 3 (ipykernel)",
   "language": "python",
   "name": "python3"
  },
  "language_info": {
   "codemirror_mode": {
    "name": "ipython",
    "version": 3
   },
   "file_extension": ".py",
   "mimetype": "text/x-python",
   "name": "python",
   "nbconvert_exporter": "python",
   "pygments_lexer": "ipython3",
   "version": "3.10.9"
  }
 },
 "nbformat": 4,
 "nbformat_minor": 5
}
