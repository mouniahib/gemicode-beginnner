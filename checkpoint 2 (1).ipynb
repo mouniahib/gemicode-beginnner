{
 "cells": [
  {
   "cell_type": "code",
   "execution_count": null,
   "id": "eaf7e86c",
   "metadata": {},
   "outputs": [],
   "source": [
    "guess_number=int(input(\"what's your guess_number?\"))\n",
    "while True:\n",
    "    import random\n",
    "    print(random.randint(1,100))\n",
    "    if guess_number >=37:\n",
    "        print(\"you are too high\")\n",
    "    elif guess_number >=50:\n",
    "        print(\"you are too high\")\n",
    "    elif guess_number <=25:\n",
    "        print(\"you are too low\")\n",
    "    else:\n",
    "        print(\"you guessed the number correctly\")\n",
    "    break"
   ]
  },
  {
   "cell_type": "code",
   "execution_count": 2,
   "id": "9c35874a",
   "metadata": {},
   "outputs": [
    {
     "name": "stdout",
     "output_type": "stream",
     "text": [
      "what's your guess_number?31\n",
      "18\n",
      "you guessed the number correctly\n"
     ]
    }
   ],
   "source": [
    "guess_number=int(input(\"what's your guess_number?\"))\n",
    "while True:\n",
    "    import random\n",
    "    print(random.randint(1,100))\n",
    "    if guess_number >=37 and guess_number >=50:\n",
    "        print(\"you are too high\")\n",
    "    elif guess_number <=25:\n",
    "        print(\"you are too low\")\n",
    "    elif guess_number ==31:\n",
    "        print(\"you guessed the number correctly\")\n",
    "    else:\n",
    "        print(\"you didn't guess the number correctly\")\n",
    "\n",
    "    break                   \n",
    "                       \n",
    "                       \n",
    "            \n",
    "                       \n",
    "                       \n",
    "                       \n",
    "            "
   ]
  },
  {
   "cell_type": "code",
   "execution_count": null,
   "id": "9c8fae21",
   "metadata": {},
   "outputs": [],
   "source": []
  },
  {
   "cell_type": "code",
   "execution_count": null,
   "id": "49511314",
   "metadata": {},
   "outputs": [],
   "source": []
  },
  {
   "cell_type": "code",
   "execution_count": null,
   "id": "b1d36f5f",
   "metadata": {},
   "outputs": [],
   "source": []
  },
  {
   "cell_type": "code",
   "execution_count": null,
   "id": "4443a3ec",
   "metadata": {},
   "outputs": [],
   "source": []
  }
 ],
 "metadata": {
  "kernelspec": {
   "display_name": "Python 3 (ipykernel)",
   "language": "python",
   "name": "python3"
  },
  "language_info": {
   "codemirror_mode": {
    "name": "ipython",
    "version": 3
   },
   "file_extension": ".py",
   "mimetype": "text/x-python",
   "name": "python",
   "nbconvert_exporter": "python",
   "pygments_lexer": "ipython3",
   "version": "3.10.9"
  }
 },
 "nbformat": 4,
 "nbformat_minor": 5
}
