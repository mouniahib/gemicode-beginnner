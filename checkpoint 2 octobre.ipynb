{
 "cells": [
  {
   "cell_type": "code",
   "execution_count": null,
   "id": "69408b3d",
   "metadata": {},
   "outputs": [],
   "source": [
    "list = []\n",
    "for i in range(2000, 3201):\n",
    "    if i % 7 == 0 and i % 5 != 0:\n",
    "        list.append(i)\n",
    "print(list)\n",
    "\n"
   ]
  },
  {
   "cell_type": "code",
   "execution_count": null,
   "id": "1e63e186",
   "metadata": {},
   "outputs": [],
   "source": [
    "num = int(input(\"Enter a number: \"))\n",
    "factorial = 1\n",
    "\n",
    "if num < 0:\n",
    "    print(\"Factorial doesn't exist for negative numbers.\")\n",
    "elif num == 0:\n",
    "    print(\"Factorial of 0 is 1\")\n",
    "else:\n",
    "    for i in range(1, num + 1):\n",
    "        factorial *= i\n",
    "    print(\"Factorial of\", num, \"is\", factorial)\n",
    "num=7"
   ]
  },
  {
   "cell_type": "code",
   "execution_count": null,
   "id": "5cc407a4",
   "metadata": {},
   "outputs": [],
   "source": [
    "result_dict = {}\n",
    "n = int(input(\"Enter a number: \"))\n",
    "\n",
    "for i in range(1, n + 1):\n",
    "    result_dict[i] = i * i\n",
    "\n",
    "print(result_dict)\n",
    "\n"
   ]
  },
  {
   "cell_type": "code",
   "execution_count": null,
   "id": "84ce6572",
   "metadata": {},
   "outputs": [],
   "source": [
    "def miss_str(str, n):\n",
    "    if n == -1:\n",
    "        n = len(str) - 1\n",
    "    return str[:n] + str[n + 1:]\n"
   ]
  },
  {
   "cell_type": "raw",
   "id": "1e785301",
   "metadata": {},
   "source": [
    "import numpy as np\n",
    "\n",
    "array1 = np.array([0, 1, 2])\n",
    "array2 = np.array([2, 1, 0])\n",
    "\n",
    "print(array1)\n",
    "print(array2)\n",
    "\n",
    "covariance_matrix = np.cov(array1, array2)\n",
    "print(covariance_matrix)\n"
   ]
  },
  {
   "cell_type": "code",
   "execution_count": null,
   "id": "40135c31",
   "metadata": {},
   "outputs": [],
   "source": [
    "import math\n",
    "\n",
    "C = 50\n",
    "H = 30\n",
    "\n",
    "numbers = input(\"Provide D (comma-separated values): \")\n",
    "numbers = numbers.split(',')\n",
    "\n",
    "resultlist = []\n",
    "\n",
    "for D in numbers:\n",
    "    try:\n",
    "        D = int(D)\n",
    "        Q = round(math.sqrt((2 * C * D) / H))\n",
    "        resultlist.append(Q)\n",
    "    except ValueError:\n",
    "        print(f\"Invalid input: {D} is not a valid integer.\")\n",
    "\n",
    "print(resultlist)\n",
    "\n"
   ]
  }
 ],
 "metadata": {
  "kernelspec": {
   "display_name": "Python 3 (ipykernel)",
   "language": "python",
   "name": "python3"
  }
 },
 "nbformat": 4,
 "nbformat_minor": 5
}
