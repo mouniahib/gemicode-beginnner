{
 "cells": [
  {
   "cell_type": "code",
   "execution_count": null,
   "id": "1f412ccb",
   "metadata": {},
   "outputs": [
    {
     "name": "stdout",
     "output_type": "stream",
     "text": [
      "Enter the number of students: 12\n",
      "Enter the number of subjects: 12\n",
      "Enter marks for student 1:\n",
      "Subject 1: 12\n"
     ]
    }
   ],
   "source": [
    "import numpy as np\n",
    "\n",
    "def calculate_grade(mark):\n",
    "    if mark >= 90:\n",
    "        return 'A'\n",
    "    elif 80 <= mark < 90:\n",
    "        return 'B'\n",
    "    elif 70 <= mark < 80:\n",
    "        return 'C'\n",
    "    elif 60 <= mark < 70:\n",
    "        return 'D'\n",
    "    else:\n",
    "        return 'F'\n",
    "\n",
    "def main():\n",
    "    num_students = int(input(\"Enter the number of students: \"))\n",
    "    num_subjects = int(input(\"Enter the number of subjects: \"))\n",
    "\n",
    "    # Create an empty numpy array to store the marks\n",
    "    marks_array = np.zeros((num_students, num_subjects))\n",
    "\n",
    "    # Get marks from the user\n",
    "    for i in range(num_students):\n",
    "        print(f\"Enter marks for student {i+1}:\")\n",
    "        for j in range(num_subjects):\n",
    "            marks_array[i, j] = float(input(f\"Subject {j+1}: \"))\n",
    "\n",
    "    # Calculate total marks and percentage for each student\n",
    "    total_marks = np.sum(marks_array, axis=1)\n",
    "    percentage = (total_marks / (num_subjects * 100)) * 100\n",
    "\n",
    "    # Calculate grades for each student\n",
    "    grades = np.array([calculate_grade(mark) for mark in percentage])\n",
    "\n",
    "    # Display the results in tabular format\n",
    "    print(\"\\nGrades Summary:\")\n",
    "    print(\"=======================================\")\n",
    "    print(\"Student\\tTotal Marks\\tPercentage\\tGrade\")\n",
    "    print(\"=======================================\")\n",
    "    for i in range(num_students):\n",
    "        print(f\"{i+1}\\t{total_marks[i]}\\t\\t{percentage[i]:.2f}%\\t\\t{grades[i]}\")\n",
    "\n",
    "if __name__ == \"__main__\":\n",
    "    main()\n"
   ]
  },
  {
   "cell_type": "code",
   "execution_count": null,
   "id": "51c9d489",
   "metadata": {},
   "outputs": [],
   "source": []
  }
 ],
 "metadata": {
  "kernelspec": {
   "display_name": "Python 3 (ipykernel)",
   "language": "python",
   "name": "python3"
  },
  "language_info": {
   "codemirror_mode": {
    "name": "ipython",
    "version": 3
   },
   "file_extension": ".py",
   "mimetype": "text/x-python",
   "name": "python",
   "nbconvert_exporter": "python",
   "pygments_lexer": "ipython3",
   "version": "3.10.9"
  }
 },
 "nbformat": 4,
 "nbformat_minor": 5
}
