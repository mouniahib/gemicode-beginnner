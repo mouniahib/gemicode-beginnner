{
 "cells": [
  {
   "cell_type": "code",
   "execution_count": null,
   "id": "03f333d5",
   "metadata": {},
   "outputs": [],
   "source": [
    "pip install plotly\n"
   ]
  },
  {
   "cell_type": "code",
   "execution_count": null,
   "id": "89f522e2",
   "metadata": {},
   "outputs": [],
   "source": [
    "import pandas as pd\n",
    "import plotly.express as px\n",
    "\n",
    "# Load the data from the CSV file\n",
    "url = \"https://github.com/mouniahib/gemicode-beginnner/blob/main/bar_chart_homework_data%20(5).csv\"\n",
    "df = pd.read_csv(url)\n",
    "\n",
    "# Exercise 1: Create a Pie Chart\n",
    "fig_pie = px.pie(df, names='Cities', values='Frequency', title=\"City Frequency Distribution\")\n",
    "fig_pie.update_traces(textinfo='percent+label')\n",
    "\n",
    "# Exercise 2: Create a Bar Chart\n",
    "fig_bar = px.bar(df, x='Cities', y='Frequency', title=\"City Frequency Distribution\")\n",
    "fig_bar.update_yaxes(title_text=\"Frequency\")\n",
    "fig_bar.update_xaxes(title_text=\"Cities\")\n",
    "\n",
    "# Show the charts\n",
    "fig_pie.show()\n",
    "fig_bar.show()\n"
   ]
  },
  {
   "cell_type": "code",
   "execution_count": null,
   "id": "392efe52",
   "metadata": {},
   "outputs": [],
   "source": []
  },
  {
   "cell_type": "code",
   "execution_count": null,
   "id": "e23036a4",
   "metadata": {},
   "outputs": [],
   "source": []
  }
 ],
 "metadata": {
  "kernelspec": {
   "display_name": "Python 3 (ipykernel)",
   "language": "python",
   "name": "python3"
  },
  "language_info": {
   "codemirror_mode": {
    "name": "ipython",
    "version": 3
   },
   "file_extension": ".py",
   "mimetype": "text/x-python",
   "name": "python",
   "nbconvert_exporter": "python",
   "pygments_lexer": "ipython3",
   "version": "3.10.9"
  }
 },
 "nbformat": 4,
 "nbformat_minor": 5
}
