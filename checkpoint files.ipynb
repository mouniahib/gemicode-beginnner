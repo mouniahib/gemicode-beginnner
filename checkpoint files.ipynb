{
 "cells": [
  {
   "cell_type": "code",
   "execution_count": null,
   "id": "8457a9a3",
   "metadata": {},
   "outputs": [],
   "source": [
    "def read_entire_file(file_path):\n",
    "    with open(file_path, 'r') as file:\n",
    "        content = file.read()\n",
    "    return content\n",
    "\n",
    "file_path = 'path/to/your/file.txt'\n",
    "file_content = read_entire_file(file_path)\n",
    "print(file_content)\n"
   ]
  },
  {
   "cell_type": "code",
   "execution_count": null,
   "id": "5682e38b",
   "metadata": {},
   "outputs": [],
   "source": [
    "def read_first_n_lines(file_path, n):\n",
    "    with open(file_path, 'r') as file:\n",
    "        lines = [next(file) for _ in range(n)]\n",
    "    return lines\n",
    "\n",
    "file_path = 'path/to/your/file.txt'\n",
    "n = 5  # Change this to the number of lines you want to read\n",
    "lines = read_first_n_lines(file_path, n)\n",
    "for line in lines:\n",
    "    print(line, end='')\n"
   ]
  },
  {
   "cell_type": "code",
   "execution_count": null,
   "id": "fcc5741f",
   "metadata": {},
   "outputs": [],
   "source": [
    "def read_last_n_lines(file_path, n):\n",
    "    with open(file_path, 'r') as file:\n",
    "        lines = file.readlines()\n",
    "    return lines[-n:]\n",
    "\n",
    "file_path = 'path/to/your/file.txt'\n",
    "n = 5  # Change this to the number of lines you want to read\n",
    "lines = read_last_n_lines(file_path, n)\n",
    "for line in lines:\n",
    "    print(line, end='')\n"
   ]
  },
  {
   "cell_type": "code",
   "execution_count": null,
   "id": "9c1eea8f",
   "metadata": {},
   "outputs": [],
   "source": [
    "def count_words(file_path):\n",
    "    with open(file_path, 'r') as file:\n",
    "        content = file.read()\n",
    "        words = content.split()\n",
    "    return len(words)\n",
    "\n",
    "file_path = 'path/to/your/file.txt'\n",
    "word_count = count_words(file_path)\n",
    "print(f\"Number of words in the file: {word_count}\")\n"
   ]
  },
  {
   "cell_type": "code",
   "execution_count": null,
   "id": "8a5dbb27",
   "metadata": {},
   "outputs": [],
   "source": [
    "def read_last_n_lines_bonus(file_path, n):\n",
    "    with open(file_path, 'r') as file:\n",
    "        lines = file.readlines()\n",
    "    return lines[-n:]\n",
    "\n",
    "file_path = 'path/to/your/file.txt'\n",
    "n = 5  # Change this to the number of lines you want to read\n",
    "lines = read_last_n_lines_bonus(file_path, n)\n",
    "for line in lines:\n",
    "    print(line, end='')\n"
   ]
  }
 ],
 "metadata": {
  "kernelspec": {
   "display_name": "Python 3 (ipykernel)",
   "language": "python",
   "name": "python3"
  },
  "language_info": {
   "codemirror_mode": {
    "name": "ipython",
    "version": 3
   },
   "file_extension": ".py",
   "mimetype": "text/x-python",
   "name": "python",
   "nbconvert_exporter": "python",
   "pygments_lexer": "ipython3",
   "version": "3.10.9"
  }
 },
 "nbformat": 4,
 "nbformat_minor": 5
}
