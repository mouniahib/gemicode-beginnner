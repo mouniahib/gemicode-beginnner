{
 "cells": [
  {
   "cell_type": "code",
   "execution_count": null,
   "id": "8c7b39ae",
   "metadata": {},
   "outputs": [],
   "source": [
    "import pandas as pd\n",
    "import plotly.express as px\n",
    "\n",
    "# Étape 1 : Charger les données depuis le fichier CSV\n",
    "url = \"https://github.com/mouniahib/gemicode-beginnner/raw/main/returns1020%20(1).csv\"\n",
    "df = pd.read_csv(url)\n",
    "\n",
    "# Étape 2 : Convertir la colonne 'Date' en format datetime\n",
    "df['Date'] = pd.to_datetime(df['Date'])\n",
    "\n",
    "# Étape 3 : Créer un graphique linéaire pour visualiser les rendements quotidiens\n",
    "fig_linear = px.line(df, x='Date', y=['GSPC', 'FTSE'], title='Rendements Quotidiens des Indices Boursiers')\n",
    "fig_linear.update_xaxes(title_text='Date')\n",
    "fig_linear.update_yaxes(title_text='Rendement')\n",
    "fig_linear.show()\n",
    "\n",
    "# Étape 4 : Créer un graphique en aires empilées pour comparer les rendements totaux\n",
    "df['Total_Rendement'] = df['GSPC'] + df['FTSE']\n",
    "fig_stacked_area = px.area(df, x='Date', y=['GSPC', 'FTSE'], title='Comparaison des Rendements des Indices Boursiers')\n",
    "fig_stacked_area.update_xaxes(title_text='Date')\n",
    "fig_stacked_area.update_yaxes(title_text='Rendement Total')\n",
    "fig_stacked_area.show()\n"
   ]
  },
  {
   "cell_type": "code",
   "execution_count": null,
   "id": "06f98c65",
   "metadata": {},
   "outputs": [],
   "source": []
  }
 ],
 "metadata": {
  "kernelspec": {
   "display_name": "Python 3 (ipykernel)",
   "language": "python",
   "name": "python3"
  },
  "language_info": {
   "codemirror_mode": {
    "name": "ipython",
    "version": 3
   },
   "file_extension": ".py",
   "mimetype": "text/x-python",
   "name": "python",
   "nbconvert_exporter": "python",
   "pygments_lexer": "ipython3",
   "version": "3.10.9"
  }
 },
 "nbformat": 4,
 "nbformat_minor": 5
}
