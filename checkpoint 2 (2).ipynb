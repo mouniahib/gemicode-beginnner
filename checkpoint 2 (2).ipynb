{
 "cells": [
  {
   "cell_type": "code",
   "execution_count": 2,
   "id": "a7435d4c",
   "metadata": {},
   "outputs": [],
   "source": [
    "import random\n"
   ]
  },
  {
   "cell_type": "code",
   "execution_count": null,
   "id": "eaf7e86c",
   "metadata": {},
   "outputs": [],
   "source": [
    "guess_number=int(input(\"what's your guess_number?\"))\n",
    "while True:\n",
    "    import random\n",
    "    print(random.randint(1,100))\n",
    "    if guess_number >=37:\n",
    "        print(\"you are too high\")\n",
    "    elif guess_number >=50:\n",
    "        print(\"you are too high\")\n",
    "    elif guess_number <=25:\n",
    "        print(\"you are too low\")\n",
    "    else:\n",
    "        print(\"you guessed the number correctly\")\n",
    "    break"
   ]
  },
  {
   "cell_type": "code",
   "execution_count": 1,
   "id": "9c35874a",
   "metadata": {},
   "outputs": [
    {
     "name": "stdout",
     "output_type": "stream",
     "text": [
      "what's your guess_number?31\n",
      "you guessed the number correctly\n",
      "you guessed the number correctly\n",
      "you guessed the number correctly\n"
     ]
    }
   ],
   "source": [
    "deviner = 31 # random.randint(1,100)\n",
    "while True:\n",
    "    guess_number=int(input(\"what's your guess_number?\"))\n",
    "\n",
    "    if guess_number > deviner:\n",
    "        print(\"you are too high\")\n",
    "    elif guess_number < deviner:\n",
    "        print(\"you are too low\")\n",
    "    else:\n",
    "        print(\"you guessed the number correctly\") \n",
    "        break"
   ]
  },
  {
   "cell_type": "code",
   "execution_count": null,
   "id": "9c8fae21",
   "metadata": {},
   "outputs": [
    {
     "name": "stdout",
     "output_type": "stream",
     "text": [
      "what's your guess_number?25\n",
      "you are too low\n",
      "you are too low\n",
      "you are too low\n"
     ]
    }
   ],
   "source": [
    "import random\n",
    "deviner=random.randint(1,100)\n",
    "while True:\n",
    "    guess_number=int(input(\"what's your guess_number?\"))\n",
    "    \n",
    "    if guess_number>deviner:\n",
    "        print(\"you are too high\")\n",
    "    elif guess_number<deviner:\n",
    "        print(\"you are too low\")\n",
    "    else:\n",
    "        print(\"you guessed the number correctly\")\n",
    "        break\n",
    "    \n",
    "    print(deviner)"
   ]
  },
  {
   "cell_type": "code",
   "execution_count": null,
   "id": "49511314",
   "metadata": {},
   "outputs": [],
   "source": []
  },
  {
   "cell_type": "code",
   "execution_count": null,
   "id": "b1d36f5f",
   "metadata": {},
   "outputs": [],
   "source": []
  },
  {
   "cell_type": "code",
   "execution_count": null,
   "id": "eb49e884",
   "metadata": {},
   "outputs": [],
   "source": []
  }
 ],
 "metadata": {
  "kernelspec": {
   "display_name": "Python 3 (ipykernel)",
   "language": "python",
   "name": "python3"
  },
  "language_info": {
   "codemirror_mode": {
    "name": "ipython",
    "version": 3
   },
   "file_extension": ".py",
   "mimetype": "text/x-python",
   "name": "python",
   "nbconvert_exporter": "python",
   "pygments_lexer": "ipython3",
   "version": "3.10.9"
  }
 },
 "nbformat": 4,
 "nbformat_minor": 5
}
