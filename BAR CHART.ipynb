{
 "cells": [
  {
   "cell_type": "code",
   "execution_count": 1,
   "id": "2a88e6af",
   "metadata": {},
   "outputs": [
    {
     "name": "stdout",
     "output_type": "stream",
     "text": [
      "Requirement already satisfied: plotly in c:\\users\\hp\\anaconda3 final2\\lib\\site-packages (5.9.0)\n",
      "Requirement already satisfied: tenacity>=6.2.0 in c:\\users\\hp\\anaconda3 final2\\lib\\site-packages (from plotly) (8.0.1)\n"
     ]
    }
   ],
   "source": [
    "!pip install plotly\n"
   ]
  },
  {
   "cell_type": "code",
   "execution_count": null,
   "id": "e85894b7",
   "metadata": {},
   "outputs": [],
   "source": [
    "import plotly.express as px\n",
    "import pandas as pd\n",
    "#Read the dataframe :\n",
    "\n",
    "df = pd.read_csv(\"used cars.csv\")\n",
    "#Create a bar chart using Plotly :\n",
    "\n",
    "fig = px.bar(df, x=\"Brand\", y=\"Cars Listings\", color=\"Cars Listings\", height=400)\n",
    "#Add a title and labels to the x and y axis\n",
    "\n",
    "fig.update_layout(title_text=\"Cars Listings by Brand\", xaxis_title=\"Brand\", yaxis_title=\"Cars Listings\")\n",
    "#Customize the color scale and add a color bar :\n",
    "\n",
    "fig.update_traces(marker=dict(color='red', opacity=0.7, line=dict(color='red', width=1.5)))\n",
    "fig.update_layout(coloraxis_colorbar=dict(title=\"Cars Listings\"))\n",
    "#Show the bar chart\n",
    "\n",
    "fig.show()"
   ]
  }
 ],
 "metadata": {
  "kernelspec": {
   "display_name": "Python 3 (ipykernel)",
   "language": "python",
   "name": "python3"
  },
  "language_info": {
   "codemirror_mode": {
    "name": "ipython",
    "version": 3
   },
   "file_extension": ".py",
   "mimetype": "text/x-python",
   "name": "python",
   "nbconvert_exporter": "python",
   "pygments_lexer": "ipython3",
   "version": "3.10.9"
  }
 },
 "nbformat": 4,
 "nbformat_minor": 5
}
