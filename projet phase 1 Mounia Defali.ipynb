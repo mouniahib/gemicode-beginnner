{
 "cells": [
  {
   "cell_type": "code",
   "execution_count": null,
   "id": "46e1e378",
   "metadata": {},
   "outputs": [],
   "source": [
    "import tkinter as tk\n",
    "import random\n",
    "\n",
    "class RockPaperScissorsGame:\n",
    "    def __init__(self, root):\n",
    "        self.root = root\n",
    "        self.root.title(\"Rock Paper Scissors Game\")\n",
    "        self.root.configure(bg=\"lightgray\")  \n",
    "\n",
    "        self.choices = [\"Rock\", \"Paper\", \"Scissors\"]\n",
    "        self.player_score = 0\n",
    "        self.ai_score = 0\n",
    "\n",
    "        self.label = tk.Label(root, text=\"Select your choice:\", bg=\"lightgray\")\n",
    "        self.label.pack()\n",
    "\n",
    "        for choice in self.choices:\n",
    "            button = tk.Button(root, text=choice, command=lambda choice=choice: self.play(choice))\n",
    "            button.pack()\n",
    "\n",
    "        self.result_text = tk.StringVar()\n",
    "        self.result_label = tk.Label(root, textvariable=self.result_text, bg=\"lightgray\")\n",
    "        self.result_label.pack()\n",
    "\n",
    "    def play(self, player_choice):\n",
    "        ai_choice = random.choice(self.choices)\n",
    "        result = self.determine_winner(player_choice, ai_choice)\n",
    "\n",
    "        if result == \"You win!\":\n",
    "            self.player_score += 1\n",
    "        elif result == \"Computer wins!\":\n",
    "            self.ai_score += 1\n",
    "\n",
    "        self.result_text.set(f\"Computer chose {ai_choice}\\n{result}\")\n",
    "\n",
    "    def determine_winner(self, player_choice, ai_choice):\n",
    "        if player_choice == ai_choice:\n",
    "            return \"It's a tie!\"\n",
    "        elif (\n",
    "            (player_choice == \"Rock\" and ai_choice == \"Scissors\") or\n",
    "            (player_choice == \"Paper\" and ai_choice == \"Rock\") or\n",
    "            (player_choice == \"Scissors\" and ai_choice == \"Paper\")\n",
    "        ):\n",
    "            return \"You win!\"\n",
    "        else:\n",
    "            return \"Computer wins!\"\n",
    "\n",
    "if __name__ == \"__main__\":\n",
    "    root = tk.Tk()\n",
    "    game = RockPaperScissorsGame(root)\n",
    "    root.mainloop()\n"
   ]
  }
 ],
 "metadata": {
  "kernelspec": {
   "display_name": "Python 3 (ipykernel)",
   "language": "python",
   "name": "python3"
  },
  "language_info": {
   "codemirror_mode": {
    "name": "ipython",
    "version": 3
   },
   "file_extension": ".py",
   "mimetype": "text/x-python",
   "name": "python",
   "nbconvert_exporter": "python",
   "pygments_lexer": "ipython3",
   "version": "3.10.9"
  }
 },
 "nbformat": 4,
 "nbformat_minor": 5
}
