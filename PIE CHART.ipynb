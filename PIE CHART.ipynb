{
 "cells": [
  {
   "cell_type": "code",
   "execution_count": null,
   "id": "372ad529",
   "metadata": {},
   "outputs": [],
   "source": [
    "import plotly.express as px\n",
    "import pandas as pd\n",
    "#Define the data as a dictionary\n",
    "\n",
    "df = pd.read_csv(\"pie_chart_data\")\n",
    "#Convert the dictionary to a pandas dataframe\n",
    "\n",
    "df = pd.DataFrame(data)\n",
    "#Create a pie chart using Plotly Express, specifying the data frame, the column for the values, the column for the names, and the color for each slice.\n",
    "\n",
    "fig = px.pie(df, values='Number of Cars', names='Engine Fuel Type', \n",
    "             color='Engine Fuel Type', title='Engine Fuel Type Distribution of Cars')\n",
    "#Update the text position of the labels to be inside each slice and show the percent and label information\n",
    "\n",
    "fig.update_traces(textposition='inside', textinfo='percent+label')\n",
    "#Update the layout to set a minimum size for the text and to hide any overlapping text\n",
    "\n",
    "fig.update_layout(uniformtext_minsize=14, uniformtext_mode='hide')\n",
    "#Show the final chart\n",
    "\n",
    "fig.show()"
   ]
  }
 ],
 "metadata": {
  "kernelspec": {
   "display_name": "Python 3 (ipykernel)",
   "language": "python",
   "name": "python3"
  },
  "language_info": {
   "codemirror_mode": {
    "name": "ipython",
    "version": 3
   },
   "file_extension": ".py",
   "mimetype": "text/x-python",
   "name": "python",
   "nbconvert_exporter": "python",
   "pygments_lexer": "ipython3",
   "version": "3.10.9"
  }
 },
 "nbformat": 4,
 "nbformat_minor": 5
}
