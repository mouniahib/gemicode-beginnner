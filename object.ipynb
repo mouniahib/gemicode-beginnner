{
 "cells": [
  {
   "cell_type": "code",
   "execution_count": null,
   "id": "db4d5b6b",
   "metadata": {},
   "outputs": [],
   "source": [
    "class Point3D:\n",
    "    def __init__(self, x, y, z):\n",
    "        self.x = x\n",
    "        self.y = y\n",
    "        self.z = z\n",
    "\n",
    "    def get_coordinates(self):\n",
    "        return self.x, self.y, self.z\n",
    "\n",
    "my_point = Point3D(1, 2, 3)\n",
    "print(my_point.get_coordinates())  # Output: (1, 2, 3)\n",
    "\n"
   ]
  },
  {
   "cell_type": "code",
   "execution_count": null,
   "id": "23bd6ca8",
   "metadata": {},
   "outputs": [],
   "source": [
    "class Rectangle:\n",
    "    def __init__(self, length, width):\n",
    "        self.length = length\n",
    "        self.width = width\n",
    "\n",
    "    def area(self):\n",
    "        return self.length * self.width\n",
    "\n",
    "    def perimeter(self):\n",
    "        return 2 * (self.length + self.width)\n",
    "\n",
    "my_rectangle = Rectangle(4, 3)\n",
    "print(\"Area:\", my_rectangle.area())  # Output: 12\n",
    "print(\"Perimeter:\", my_rectangle.perimeter())  # Output: 14\n"
   ]
  },
  {
   "cell_type": "code",
   "execution_count": null,
   "id": "5c33d90c",
   "metadata": {},
   "outputs": [],
   "source": [
    "import math\n",
    "\n",
    "class Circle:\n",
    "    def __init__(self, center, radius):\n",
    "        self.center = center  # Assuming center is a tuple (x, y)\n",
    "        self.radius = radius\n",
    "\n",
    "    def area(self):\n",
    "        return math.pi * self.radius ** 2\n",
    "\n",
    "    def perimeter(self):\n",
    "        return 2 * math.pi * self.radius\n",
    "\n",
    "    def is_inside(self, point):\n",
    "        x, y = point\n",
    "        cx, cy = self.center\n",
    "        distance_squared = (x - cx) ** 2 + (y - cy) ** 2\n",
    "        return distance_squared <= self.radius ** 2\n",
    "\n",
    "my_circle = Circle((0, 0), 5)\n",
    "print(\"Area:\", my_circle.area())  # Output: 78.53981633974483\n",
    "print(\"Perimeter:\", my_circle.perimeter())  # Output: 31.41592653589793\n",
    "print(\"Is (3, 4) inside the circle?\", my_circle.is_inside((3, 4)))  # Output: True\n",
    "print(\"Is (6, 7) inside the circle?\", my_circle.is_inside((6, 7)))  # Output: False\n"
   ]
  },
  {
   "cell_type": "code",
   "execution_count": null,
   "id": "d4eba64b",
   "metadata": {},
   "outputs": [],
   "source": [
    "class Bank:\n",
    "    def __init__(self, balance=0):\n",
    "        self.balance = balance\n",
    "\n",
    "    def deposit(self, amount):\n",
    "        self.balance += amount\n",
    "\n",
    "    def withdraw(self, amount):\n",
    "        if amount <= self.balance:\n",
    "            self.balance -= amount\n",
    "        else:\n",
    "            print(\"Insufficient funds!\")\n",
    "\n",
    "my_account = Bank(1000)\n",
    "print(\"Initial Balance:\", my_account.balance)  # Output: 1000\n",
    "\n",
    "my_account.deposit(500)\n",
    "print(\"Balance after deposit:\", my_account.balance)  # Output: 1500\n",
    "\n",
    "my_account.withdraw(200)\n",
    "print(\"Balance after withdrawal:\", my_account.balance)  # Output: 1300\n",
    "\n",
    "my_account.withdraw(2000)  # Output: Insufficient funds!\n"
   ]
  }
 ],
 "metadata": {
  "kernelspec": {
   "display_name": "Python 3 (ipykernel)",
   "language": "python",
   "name": "python3"
  },
  "language_info": {
   "codemirror_mode": {
    "name": "ipython",
    "version": 3
   },
   "file_extension": ".py",
   "mimetype": "text/x-python",
   "name": "python",
   "nbconvert_exporter": "python",
   "pygments_lexer": "ipython3",
   "version": "3.10.9"
  }
 },
 "nbformat": 4,
 "nbformat_minor": 5
}
